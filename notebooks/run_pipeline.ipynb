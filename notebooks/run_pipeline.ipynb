{
 "cells": [
  {
   "cell_type": "code",
   "execution_count": 8,
   "id": "3b34283c",
   "metadata": {},
   "outputs": [],
   "source": [
    "\"\"\"\n",
    "Diabetes Prediction Pipeline\n",
    "Demonstrates the complete workflow using our OOP library.\n",
    "\"\"\"\n",
    "\n",
    "# Imports\n",
    "import pandas as pd\n",
    "from sklearn.metrics import roc_auc_score\n",
    "\n",
    "# Import our library classes\n",
    "from hw5lib import (\n",
    "    DataLoader,\n",
    "    NaNRowRemover,\n",
    "    NaNMeanFiller,\n",
    "    BMICalculator,\n",
    "    GenderEncoder,\n",
    "    AgeSquared,\n",
    "    DiabetesModel\n",
    ")\n"
   ]
  },
  {
   "cell_type": "code",
   "execution_count": 9,
   "id": "21c0a102",
   "metadata": {},
   "outputs": [
    {
     "name": "stdout",
     "output_type": "stream",
     "text": [
      "============================================================\n",
      "STEP 1: Loading Data\n",
      "============================================================\n",
      "Train shape: (8000, 53)\n",
      "Test shape: (2000, 53)\n",
      "\n"
     ]
    }
   ],
   "source": [
    "print(\"=\" * 60)\n",
    "print(\"STEP 1: Loading Data\")\n",
    "print(\"=\" * 60)\n",
    "\n",
    "loader = DataLoader(\n",
    "    csv_path=\"../sample_diabetes_mellitus_data.csv\",\n",
    "    target=\"diabetes_mellitus\",\n",
    "    test_size=0.2,\n",
    "    random_state=42\n",
    ")\n",
    "\n",
    "train_df, test_df = loader.load()\n",
    "print(f\"Train shape: {train_df.shape}\")\n",
    "print(f\"Test shape: {test_df.shape}\")\n",
    "print()\n"
   ]
  },
  {
   "cell_type": "code",
   "execution_count": 10,
   "id": "332f27ff",
   "metadata": {},
   "outputs": [
    {
     "name": "stdout",
     "output_type": "stream",
     "text": [
      "============================================================\n",
      "STEP 2: Removing NaN Rows (age, gender, ethnicity)\n",
      "============================================================\n",
      "After removing NaN rows:\n",
      "Train shape: (7503, 53)\n",
      "Test shape: (1865, 53)\n",
      "\n"
     ]
    }
   ],
   "source": [
    "\n",
    "print(\"=\" * 60)\n",
    "print(\"STEP 2: Removing NaN Rows (age, gender, ethnicity)\")\n",
    "print(\"=\" * 60)\n",
    "\n",
    "nan_remover = NaNRowRemover(columns_to_check=[\"age\", \"gender\", \"ethnicity\"])\n",
    "train_df = nan_remover.fit_transform(train_df)\n",
    "test_df = nan_remover.transform(test_df)\n",
    "\n",
    "print(f\"After removing NaN rows:\")\n",
    "print(f\"Train shape: {train_df.shape}\")\n",
    "print(f\"Test shape: {test_df.shape}\")\n",
    "print()\n",
    "#check"
   ]
  },
  {
   "cell_type": "code",
   "execution_count": 11,
   "id": "b4673b2d",
   "metadata": {},
   "outputs": [
    {
     "name": "stdout",
     "output_type": "stream",
     "text": [
      "============================================================\n",
      "STEP 3: Filling NaN with Mean (height, weight)\n",
      "============================================================\n",
      "Learned means from training data:\n",
      "  height: 170.06\n",
      "  weight: 86.79\n",
      "\n"
     ]
    }
   ],
   "source": [
    "\n",
    "\n",
    "print(\"=\" * 60)\n",
    "print(\"STEP 3: Filling NaN with Mean (height, weight)\")\n",
    "print(\"=\" * 60)\n",
    "\n",
    "nan_filler = NaNMeanFiller(columns_to_fill=[\"height\", \"weight\"])\n",
    "train_df = nan_filler.fit_transform(train_df)\n",
    "test_df = nan_filler.transform(test_df)\n",
    "\n",
    "print(f\"Learned means from training data:\")\n",
    "print(f\"  height: {nan_filler.means_['height']:.2f}\")\n",
    "print(f\"  weight: {nan_filler.means_['weight']:.2f}\")\n",
    "print()\n"
   ]
  },
  {
   "cell_type": "code",
   "execution_count": 12,
   "id": "3cac8366",
   "metadata": {},
   "outputs": [
    {
     "name": "stdout",
     "output_type": "stream",
     "text": [
      "============================================================\n",
      "STEP 4: Creating Features\n",
      "============================================================\n",
      "Creating BMI feature...\n",
      "Encoding gender...\n",
      "Gender mapping: {'F': 0, 'M': 1}\n",
      "Creating age squared feature...\n",
      "\n",
      "New features created: bmi, gender_numeric, age_squared\n",
      "Train columns: ['Unnamed: 0', 'encounter_id', 'hospital_id', 'age', 'bmi', 'elective_surgery', 'ethnicity', 'gender', 'height', 'hospital_admit_source', 'icu_admit_source', 'icu_id', 'icu_stay_type', 'icu_type', 'pre_icu_los_days', 'readmission_status', 'weight', 'albumin_apache', 'apache_2_diagnosis', 'apache_3j_diagnosis', 'apache_post_operative', 'arf_apache', 'bilirubin_apache', 'bun_apache', 'creatinine_apache', 'fio2_apache', 'gcs_eyes_apache', 'gcs_motor_apache', 'gcs_unable_apache', 'gcs_verbal_apache', 'glucose_apache', 'heart_rate_apache', 'hematocrit_apache', 'intubated_apache', 'map_apache', 'paco2_apache', 'paco2_for_ph_apache', 'pao2_apache', 'ph_apache', 'resprate_apache', 'sodium_apache', 'temp_apache', 'urineoutput_apache', 'ventilated_apache', 'wbc_apache', 'aids', 'cirrhosis', 'hepatic_failure', 'immunosuppression', 'leukemia', 'lymphoma', 'solid_tumor_with_metastasis', 'diabetes_mellitus', 'gender_numeric', 'age_squared']\n",
      "\n"
     ]
    }
   ],
   "source": [
    "\n",
    "\n",
    "print(\"=\" * 60)\n",
    "print(\"STEP 4: Creating Features\")\n",
    "print(\"=\" * 60)\n",
    "\n",
    "# Feature 1: BMI\n",
    "print(\"Creating BMI feature...\")\n",
    "bmi_calculator = BMICalculator(height_col=\"height\", weight_col=\"weight\", output_col=\"bmi\")\n",
    "train_df = bmi_calculator.fit_transform(train_df)\n",
    "test_df = bmi_calculator.transform(test_df)\n",
    "\n",
    "# Feature 2: Gender encoding\n",
    "print(\"Encoding gender...\")\n",
    "gender_encoder = GenderEncoder(gender_col=\"gender\", output_col=\"gender_numeric\")\n",
    "train_df = gender_encoder.fit_transform(train_df)\n",
    "test_df = gender_encoder.transform(test_df)\n",
    "print(f\"Gender mapping: {gender_encoder.gender_mapping_}\")\n",
    "\n",
    "# Feature 3: Age squared\n",
    "print(\"Creating age squared feature...\")\n",
    "age_squared = AgeSquared(age_col=\"age\", output_col=\"age_squared\")\n",
    "train_df = age_squared.fit_transform(train_df)\n",
    "test_df = age_squared.transform(test_df)\n",
    "\n",
    "print(f\"\\nNew features created: bmi, gender_numeric, age_squared\")\n",
    "print(f\"Train columns: {list(train_df.columns)}\")\n",
    "print()\n"
   ]
  },
  {
   "cell_type": "code",
   "execution_count": 13,
   "id": "09d7cda1",
   "metadata": {},
   "outputs": [
    {
     "name": "stdout",
     "output_type": "stream",
     "text": [
      "============================================================\n",
      "STEP 5: Training Model\n",
      "============================================================\n",
      "Using features: ['age', 'gender_numeric', 'bmi', 'age_squared']\n",
      "\n",
      "Training Random Forest model...\n",
      "✓ Model trained successfully!\n",
      "\n",
      "Feature Importances:\n",
      "          feature  importance\n",
      "2             bmi    0.663353\n",
      "0             age    0.147752\n",
      "3     age_squared    0.147017\n",
      "1  gender_numeric    0.041878\n",
      "\n"
     ]
    }
   ],
   "source": [
    "\n",
    "print(\"=\" * 60)\n",
    "print(\"STEP 5: Training Model\")\n",
    "print(\"=\" * 60)\n",
    "\n",
    "# Define features to use (pick columns that exist and make sense)\n",
    "# Adjust these based on what columns are actually in your diabetes dataset\n",
    "feature_columns = [\n",
    "    'age',\n",
    "    'gender_numeric',\n",
    "    'bmi',\n",
    "    'age_squared',\n",
    "    # Add more columns from your dataset as needed\n",
    "    # e.g., 'hypertension', 'heart_disease', 'smoking_history_numeric', etc.\n",
    "]\n",
    "\n",
    "# Filter to only use columns that actually exist\n",
    "feature_columns = [col for col in feature_columns if col in train_df.columns]\n",
    "print(f\"Using features: {feature_columns}\")\n",
    "print()\n",
    "\n",
    "# Initialize model\n",
    "model = DiabetesModel(\n",
    "    feature_columns=feature_columns,\n",
    "    target_column='diabetes_mellitus',\n",
    "    hyperparameters={\n",
    "        'n_estimators': 100,\n",
    "        'max_depth': 10,\n",
    "        'random_state': 42\n",
    "    }\n",
    ")\n",
    "\n",
    "# Train model\n",
    "print(\"Training Random Forest model...\")\n",
    "model.train(train_df)\n",
    "print(\"✓ Model trained successfully!\")\n",
    "print()\n",
    "\n",
    "# Optional: Show feature importance\n",
    "try:\n",
    "    importance_df = model.get_feature_importance()\n",
    "    print(\"Feature Importances:\")\n",
    "    print(importance_df)\n",
    "    print()\n",
    "except:\n",
    "    pass\n"
   ]
  },
  {
   "cell_type": "code",
   "execution_count": 14,
   "id": "d541c062",
   "metadata": {},
   "outputs": [
    {
     "name": "stdout",
     "output_type": "stream",
     "text": [
      "============================================================\n",
      "STEP 6: Making Predictions on Test Set\n",
      "============================================================\n",
      "Predictions shape: (1865, 2)\n",
      "Prediction columns: ['prob_class_0', 'prob_class_1']\n",
      "\n",
      "Sample predictions:\n",
      "      diabetes_mellitus  predictions\n",
      "5012                  0     0.295345\n",
      "9412                  0     0.011179\n",
      "5597                  0     0.026377\n",
      "1143                  0     0.167516\n",
      "7148                  1     0.503860\n",
      "6421                  1     0.314951\n",
      "1435                  0     0.378985\n",
      "4907                  1     0.154092\n",
      "9910                  0     0.118071\n",
      "7239                  1     0.218949\n",
      "\n"
     ]
    }
   ],
   "source": [
    "\n",
    "print(\"=\" * 60)\n",
    "print(\"STEP 6: Making Predictions on Test Set\")\n",
    "print(\"=\" * 60)\n",
    "\n",
    "# Get predicted probabilities\n",
    "predictions_df = model.predict(test_df)\n",
    "print(f\"Predictions shape: {predictions_df.shape}\")\n",
    "print(f\"Prediction columns: {list(predictions_df.columns)}\")\n",
    "print()\n",
    "\n",
    "# Add predictions to test dataframe\n",
    "# Assuming binary classification: prob_class_1 is probability of diabetes\n",
    "test_df['predictions'] = predictions_df['prob_class_1'].values\n",
    "\n",
    "print(\"Sample predictions:\")\n",
    "print(test_df[['diabetes_mellitus', 'predictions']].head(10))\n",
    "print()\n"
   ]
  },
  {
   "cell_type": "code",
   "execution_count": 15,
   "id": "fb303e24",
   "metadata": {},
   "outputs": [
    {
     "name": "stdout",
     "output_type": "stream",
     "text": [
      "============================================================\n",
      "STEP 7: Computing ROC AUC Score\n",
      "============================================================\n",
      "ROC AUC Score: 0.6683\n",
      "\n"
     ]
    }
   ],
   "source": [
    "\n",
    "print(\"=\" * 60)\n",
    "print(\"STEP 7: Computing ROC AUC Score\")\n",
    "print(\"=\" * 60)\n",
    "\n",
    "# Get true labels and predicted probabilities\n",
    "y_true = test_df['diabetes_mellitus']\n",
    "y_pred_proba = test_df['predictions']\n",
    "\n",
    "# Compute ROC AUC score\n",
    "roc_auc = roc_auc_score(y_true, y_pred_proba)\n",
    "\n",
    "print(f\"ROC AUC Score: {roc_auc:.4f}\")\n",
    "print()\n"
   ]
  },
  {
   "cell_type": "code",
   "execution_count": 16,
   "id": "28d90bfc",
   "metadata": {},
   "outputs": [
    {
     "name": "stdout",
     "output_type": "stream",
     "text": [
      "============================================================\n",
      "PIPELINE COMPLETE!\n",
      "============================================================\n",
      "✓ Data loaded and split\n",
      "✓ Preprocessing applied\n",
      "✓ Features engineered\n",
      "✓ Model trained\n",
      "✓ Predictions generated\n",
      "✓ ROC AUC Score: 0.6683\n",
      "\n"
     ]
    }
   ],
   "source": [
    "\n",
    "print(\"=\" * 60)\n",
    "print(\"PIPELINE COMPLETE!\")\n",
    "print(\"=\" * 60)\n",
    "print(f\"✓ Data loaded and split\")\n",
    "print(f\"✓ Preprocessing applied\")\n",
    "print(f\"✓ Features engineered\")\n",
    "print(f\"✓ Model trained\")\n",
    "print(f\"✓ Predictions generated\")\n",
    "print(f\"✓ ROC AUC Score: {roc_auc:.4f}\")\n",
    "print()\n"
   ]
  }
 ],
 "metadata": {
  "kernelspec": {
   "display_name": "Python (BSE Sandbox)",
   "language": "python",
   "name": "bse_sandbox"
  },
  "language_info": {
   "codemirror_mode": {
    "name": "ipython",
    "version": 3
   },
   "file_extension": ".py",
   "mimetype": "text/x-python",
   "name": "python",
   "nbconvert_exporter": "python",
   "pygments_lexer": "ipython3",
   "version": "3.12.7"
  }
 },
 "nbformat": 4,
 "nbformat_minor": 5
}
